{
 "cells": [
  {
   "cell_type": "markdown",
   "metadata": {
    "colab_type": "text",
    "id": "keC2xRkZzQBf"
   },
   "source": [
    "<?xml version=\"1.0\" encoding=\"UTF-8\"?>\n",
    "<html>\n",
    "  <body>\n",
    "    <header></header>\n",
    "        <CENTER>\n",
    "          <img src=\"https://www.uvv.br/wp-content/themes/uvvBr/templates/assets//img/logouvv.svg\" alt=\"UVV-LOGO\" style = width=\"250px\"; height=\"250px\">\n",
    "        </CENTER><br/>\n",
    "\n",
    "# <CENTER>TÓPICO VIII</CENTER>\n",
    "## <CENTER>Introdução à Estruturas de Dados Heterogênea LIST</CENTER>\n",
    "\n",
    "\n",
    "### <b>DESAFIO</b>\n",
    "#### <b>Sugestão de resposta</b>\n"
   ]
  },
  {
   "cell_type": "markdown",
   "metadata": {},
   "source": [
    "\n",
    "<b> Considerando a lista de temperaturas abaixo:</b><br />\n",
    "<b> Celsius = [-2.3, 0, 10, -15, -1, 3, 50, 22, -5.1, 33, 87, -100] </b><br />\n",
    "\n",
    "<ol>\n",
    "  <li>Criar um código, utilizando o conceito de List Comprehension, para converter Celsius em Fahrenheit</li>\n",
    "  <li>Após exibir o resultado ao usuário, ordenar a lista.</li>\n",
    "  <li>Depois de exibir o resultado ordenado ao usuário, apresentar novo resultado exibindo apenas os índicies a partir de um valor qualquer escolhido pelo usuário </li>\n",
    "</ol>\n"
   ]
  },
  {
   "cell_type": "code",
   "execution_count": null,
   "metadata": {
    "colab": {},
    "colab_type": "code",
    "id": "fe-JImRVXOM5"
   },
   "outputs": [],
   "source": [
    "#Criando a Lista\n",
    "Celsius = [-2.3, 0, 10, -15, -1, 3, 50, 22, -5.1, 33, 100, -100]"
   ]
  },
  {
   "cell_type": "markdown",
   "metadata": {},
   "source": [
    "&#10139; FÓRMULA PARA CONVERSÃO CELSIUS PARA FAHRENHEIT:\n",
    "\n",
    "    °FAHRENHEIT = (°CELSIUS × 9/5) + 32\n"
   ]
  },
  {
   "cell_type": "code",
   "execution_count": null,
   "metadata": {},
   "outputs": [],
   "source": [
    "# Converter Celsius para Fahrenheit utilizando List Comprehension\n",
    "Fahrenheit = [ ((float(9)/5)*temp + 32) for temp in Celsius ]\n",
    "\n",
    "print(Fahrenheit)"
   ]
  },
  {
   "cell_type": "code",
   "execution_count": null,
   "metadata": {},
   "outputs": [],
   "source": [
    "# Ordenando e 'Melhorando' a visualização\n",
    "Celsius.sort()\n",
    "Fahrenheit.sort()\n",
    "print(\"Graus Celsius\\t\\tGraus Fahrenheit\")\n",
    "print(\"------------------------------------------------------\")\n",
    "for i, j in zip(Celsius, Fahrenheit):\n",
    "    print(\"%f\\t\\t%f\" %(i, j))"
   ]
  },
  {
   "cell_type": "code",
   "execution_count": null,
   "metadata": {},
   "outputs": [],
   "source": [
    "#Perguntando ao usuário a partir de qual elemento(índice) ele deseja ver a lista\n",
    "indice = int(input(\"A partir de qual elemento você deseja visualizar a lista? \"))\n",
    "print(\"Exibindo o resultado a partir do \",indice,\"° elemento\")\n",
    "print(\"Graus Celsius\\t\\tGraus Fahrenheit\")\n",
    "print(\"------------------------------------------------------\")\n",
    "Celsius = Celsius[indice:]\n",
    "Fahrenheit = Fahrenheit[indice:]\n",
    "for i, j in zip(Celsius, Fahrenheit):\n",
    "    print(\"%f\\t\\t%f\" %(i, j))"
   ]
  },
  {
   "cell_type": "markdown",
   "metadata": {},
   "source": [
    "Bom. Aqui foi um pequena sugestão de como resolver o desafio. Você, claro, irá estudar o código e propor melhorias.\n",
    "Foi bom ter você conosco e nos vemos em breve!!"
   ]
  }
 ],
 "metadata": {
  "colab": {
   "collapsed_sections": [],
   "name": "TOPICO_IV.ipynb",
   "provenance": [],
   "toc_visible": true
  },
  "kernelspec": {
   "display_name": "Python 3 (ipykernel)",
   "language": "python",
   "name": "python3"
  },
  "language_info": {
   "codemirror_mode": {
    "name": "ipython",
    "version": 3
   },
   "file_extension": ".py",
   "mimetype": "text/x-python",
   "name": "python",
   "nbconvert_exporter": "python",
   "pygments_lexer": "ipython3",
   "version": "3.11.2"
  }
 },
 "nbformat": 4,
 "nbformat_minor": 4
}
