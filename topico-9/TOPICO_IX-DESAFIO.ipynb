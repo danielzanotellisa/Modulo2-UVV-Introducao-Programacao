{
 "cells": [
  {
   "cell_type": "markdown",
   "metadata": {
    "colab_type": "text",
    "id": "keC2xRkZzQBf"
   },
   "source": [
    "<?xml version=\"1.0\" encoding=\"UTF-8\"?>\n",
    "<html>\n",
    "  <body>\n",
    "    <header></header>\n",
    "        <CENTER>\n",
    "          <img src=\"https://www.uvv.br/wp-content/themes/uvvBr/templates/assets//img/logouvv.svg\" alt=\"UVV-LOGO\" style = width=\"250px\"; height=\"250px\">\n",
    "        </CENTER><br/>\n",
    "\n",
    "# <CENTER>TÓPICO IX</CENTER>\n",
    "## <CENTER>Estrutura de Dados Heterogênea - DICIONÁRIO: DICT</CENTER>\n",
    "\n",
    "\n",
    "### <b>DESAFIO</b>\n",
    "#### <b>Sugestão de resposta</b>\n"
   ]
  },
  {
   "cell_type": "markdown",
   "metadata": {},
   "source": [
    "\n",
    "<b> Criar um código que armazene a intenção de voto dos usuários e ao final da pesquisa apresente a lista de votos de todos entrevistados.</b><br>\n",
    "<b> REGRAS:</b><br>\n",
    "<ol>\n",
    "  <li>Permitir ao usuário escolher entre 3 opções de candidados</li>\n",
    "  <li>Armazenar nome, idade e sexo do entrevistado</li>\n",
    "  <li>Apresentar a lista de votação com todos os dados após a votação</li>\n",
    "</ol>\n",
    "\n",
    "<b> OBS.: Os nomes são fictícios e não apresentam qualquer vínculo com a realidade</b><br>\n",
    "<b> OBS.: O objetivo é apresentar uma solução simples aos conceitos de Dicionário. Soluções mais elaboradas são apresentadas no exercício \"NA PRÁTICA\".</b><br>"
   ]
  },
  {
   "cell_type": "code",
   "execution_count": null,
   "metadata": {
    "colab": {},
    "colab_type": "code",
    "id": "fe-JImRVXOM5"
   },
   "outputs": [],
   "source": [
    "#Criando um Dicionário vazio\n",
    "\"\"\"\n",
    "O dicionário irá ter a estrutura Key como nome do entrevistado e itens IDADE, SEXO, CADIDATO\n",
    "\n",
    "\"\"\"\n",
    "entrevista = {}\n",
    "#Criando a Lista de cadidatos:\n",
    "candidatos = [\"BREJA GELADA\", \"CANA BRAVA\", \"ZÉ DA PINGA\"]"
   ]
  },
  {
   "cell_type": "code",
   "execution_count": 1,
   "metadata": {},
   "outputs": [
    {
     "name": "stdout",
     "output_type": "stream",
     "text": [
      "Olá! Tudo bem? Estamos fazendo um breve pesquisa para saber a intenção de voto nestas eleições.\n",
      "\n"
     ]
    },
    {
     "name": "stdin",
     "output_type": "stream",
     "text": [
      "Qual seu o nome?  Daniel\n"
     ]
    },
    {
     "name": "stdout",
     "output_type": "stream",
     "text": [
      "\n"
     ]
    },
    {
     "name": "stdin",
     "output_type": "stream",
     "text": [
      "Qual sua idade?  24\n",
      "\n",
      "Você se considera de qual sexo?\n",
      "            \n",
      " M - Masculino\n",
      " F - Feminino\n",
      " O - Outro não especificado anteriormente ou prefere não opniar\n",
      " \n",
      " Escolha:  M\n",
      "\n",
      "Dos candidatos abaixos, em quem você irá votar?\n",
      "        \n",
      " 1 - \"BREJA GELADA\"\n",
      " 2 - \"CANA BRAVA\" \n",
      " 3 - \"ZÉ DA PINGA\"\n",
      "            \n",
      "Escolha:  1\n"
     ]
    },
    {
     "name": "stdout",
     "output_type": "stream",
     "text": [
      "\n"
     ]
    },
    {
     "ename": "NameError",
     "evalue": "name 'candidatos' is not defined",
     "output_type": "error",
     "traceback": [
      "\u001b[1;31m---------------------------------------------------------------------------\u001b[0m",
      "\u001b[1;31mNameError\u001b[0m                                 Traceback (most recent call last)",
      "Cell \u001b[1;32mIn[1], line 70\u001b[0m\n\u001b[0;32m     66\u001b[0m         \u001b[38;5;28mprint\u001b[39m(\u001b[38;5;124m\"\u001b[39m\u001b[38;5;124mEscolha uma das opções de voto, por favor! \u001b[39m\u001b[38;5;130;01m\\n\u001b[39;00m\u001b[38;5;124m\"\u001b[39m)\n\u001b[0;32m     69\u001b[0m escolha \u001b[38;5;241m=\u001b[39m escolha \u001b[38;5;241m-\u001b[39m \u001b[38;5;241m1\u001b[39m \u001b[38;5;66;03m#ajustando posição de índice\u001b[39;00m\n\u001b[1;32m---> 70\u001b[0m entrevista[nome] \u001b[38;5;241m=\u001b[39m [idade, sexo, \u001b[43mcandidatos\u001b[49m[escolha]] \u001b[38;5;66;03m# criando o dicionário com os dados da entrevista\u001b[39;00m\n\u001b[0;32m     72\u001b[0m \u001b[38;5;66;03m#exibindo o resultado da votação individual\u001b[39;00m\n\u001b[0;32m     73\u001b[0m \u001b[38;5;28mprint\u001b[39m(\u001b[38;5;124m'\u001b[39m\u001b[38;5;132;01m%s\u001b[39;00m\u001b[38;5;124m de \u001b[39m\u001b[38;5;132;01m%d\u001b[39;00m\u001b[38;5;124m anos, do sexo \u001b[39m\u001b[38;5;132;01m%s\u001b[39;00m\u001b[38;5;124m, votou em \u001b[39m\u001b[38;5;132;01m%s\u001b[39;00m\u001b[38;5;124m'\u001b[39m \u001b[38;5;241m%\u001b[39m(nome, entrevista[nome][\u001b[38;5;241m0\u001b[39m], entrevista[nome][\u001b[38;5;241m1\u001b[39m], entrevista[nome][\u001b[38;5;241m2\u001b[39m]))\n",
      "\u001b[1;31mNameError\u001b[0m: name 'candidatos' is not defined"
     ]
    }
   ],
   "source": [
    "opcao = 'n' #Atribuindo valor \"n\" para continuar entrevista\n",
    "\n",
    "#Boas Vindas ao Entrevista\n",
    "print (\"Olá! Tudo bem? Estamos fazendo um breve pesquisa para saber a intenção de voto nestas eleições.\")\n",
    "print ()\n",
    "while opcao != 'S': #Aqui estamos controlando o valor digitado pelo usuário. Tem que ser inteiro válido\n",
    "    \n",
    "    \n",
    "    idade = ''\n",
    "    sexo = ''\n",
    "    escolha = ''\n",
    "    \n",
    "    nome = input(\"Qual seu o nome? \")\n",
    "    print()\n",
    "    \n",
    "    while idade == '':\n",
    "        try:\n",
    "            idade = input(\"Qual sua idade? \")\n",
    "            idade = int(idade)            \n",
    "        except:\n",
    "            idade = ''\n",
    "            print(\"Digite uma idade válida, por favor!! \\n\")\n",
    "    \n",
    "    while sexo == '':\n",
    "        sexo = input(\"\"\"\n",
    "Você se considera de qual sexo?\n",
    "            \n",
    " M - Masculino\n",
    " F - Feminino\n",
    " O - Outro não especificado anteriormente ou prefere não opniar\n",
    " \n",
    " Escolha: \"\"\")\n",
    "        if sexo in [\"M\",\"m\",\"F\",\"f\",\"O\",\"o\"]:\n",
    "            sexo = sexo.upper()\n",
    "            if sexo == \"M\":\n",
    "                sexo = \"Masculino\"\n",
    "            elif sexo == \"F\":\n",
    "                sexo = \"Feminino\"\n",
    "            else:\n",
    "                sexo = \"Não Binário\"\n",
    "        else: \n",
    "            sexo = ''\n",
    "\n",
    "    \n",
    "    while escolha == '':\n",
    "        escolha = input(\"\"\"\n",
    "Dos candidatos abaixos, em quem você irá votar?\n",
    "        \n",
    " 1 - \"BREJA GELADA\"\n",
    " 2 - \"CANA BRAVA\" \n",
    " 3 - \"ZÉ DA PINGA\"\n",
    "            \n",
    "Escolha: \"\"\")\n",
    "        print()\n",
    "        try:\n",
    "            escolha = int(escolha)\n",
    "        except:\n",
    "            escolha = ''\n",
    "            print()\n",
    "            print(\"Digite um voto válido, por favor!! \\n\")\n",
    "\n",
    "            \n",
    "        if escolha != '' and escolha not in range (1,4):\n",
    "            escolha = ''\n",
    "            print()\n",
    "            print(\"Escolha uma das opções de voto, por favor! \\n\")\n",
    "            \n",
    "        \n",
    "    escolha = escolha - 1 #ajustando posição de índice\n",
    "    entrevista[nome] = [idade, sexo, candidatos[escolha]] # criando o dicionário com os dados da entrevista\n",
    "    \n",
    "    #exibindo o resultado da votação individual\n",
    "    print('%s de %d anos, do sexo %s, votou em %s' %(nome, entrevista[nome][0], entrevista[nome][1], entrevista[nome][2]))\n",
    "    \n",
    "    #exibindo o resultado da votação geral\n",
    "    print()\n",
    "    print(\"Situação da Votação\")\n",
    "    print(\"--------------------------------------------------------------------------------\")\n",
    "    print(f\"{'Eleitor' : <40}|{'Idade' : ^7}|{'Sexo' : ^20}|{'Votou no Candidato' : >20}\") \n",
    "    print()\n",
    "    for nome, lista in entrevista.items():\n",
    "        print(f'{nome : <40}|{lista[0] : ^7}|{lista[1] : ^20}|{lista[2] : >20}')\n",
    "    print()\n",
    "    opcao = input('Para encerrar a entrevista Digite \"S\", ou aperte qualquer tecla para continuar: ').upper()\n"
   ]
  },
  {
   "cell_type": "markdown",
   "metadata": {},
   "source": [
    "Bom. Aqui foi um pequena sugestão de como resolver o desafio. Você, claro, irá estudar o código e propor melhorias.\n",
    "Foi bom ter você conosco e nos vemos em breve!!"
   ]
  }
 ],
 "metadata": {
  "colab": {
   "collapsed_sections": [],
   "name": "TOPICO_IV.ipynb",
   "provenance": [],
   "toc_visible": true
  },
  "kernelspec": {
   "display_name": "Python 3 (ipykernel)",
   "language": "python",
   "name": "python3"
  },
  "language_info": {
   "codemirror_mode": {
    "name": "ipython",
    "version": 3
   },
   "file_extension": ".py",
   "mimetype": "text/x-python",
   "name": "python",
   "nbconvert_exporter": "python",
   "pygments_lexer": "ipython3",
   "version": "3.11.2"
  }
 },
 "nbformat": 4,
 "nbformat_minor": 4
}
