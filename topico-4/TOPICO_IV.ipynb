{
  "nbformat": 4,
  "nbformat_minor": 0,
  "metadata": {
    "colab": {
      "name": "TOPICO_IV.ipynb",
      "provenance": [],
      "collapsed_sections": [],
      "toc_visible": true
    },
    "kernelspec": {
      "display_name": "Python 3",
      "language": "python",
      "name": "python3"
    },
    "language_info": {
      "codemirror_mode": {
        "name": "ipython",
        "version": 3
      },
      "file_extension": ".py",
      "mimetype": "text/x-python",
      "name": "python",
      "nbconvert_exporter": "python",
      "pygments_lexer": "ipython3",
      "version": "3.7.4"
    }
  },
  "cells": [
    {
      "cell_type": "markdown",
      "metadata": {
        "colab_type": "text",
        "id": "keC2xRkZzQBf"
      },
      "source": [
        "<?xml version=\"1.0\" encoding=\"UTF-8\"?>\n",
        "<html>\n",
        "  <body>\n",
        "    <header></header>\n",
        "        <CENTER>\n",
        "          <img src=\"https://www.uvv.br/wp-content/themes/uvvBr/templates/assets//img/logouvv.svg\" alt=\"UVV-LOGO\" style = width=\"250px\"; height=\"250px\">\n",
        "        </CENTER><br/>\n",
        "\n",
        "# <CENTER>TÓPICO IV</CENTER>\n",
        "## <CENTER>Introdução a Python!!!</CENTER>\n",
        "\n",
        "### <b>Objetivos Específicos de Aprendizagem:</b>\n",
        "\n",
        "Compreender os conceitos de lógica de programação e ser capaz de criar pequenos programas para computador.\n",
        "\n",
        "<b>Conteúdos do Tópico:</b><br />\n",
        "<ol>\n",
        "  <li>Ambiente Python</li>\n",
        "  <li>Tipos de Dados e variáveis</li>\n",
        "  <li>Entrada e Saída de Dados</li>\n",
        "  <li>Operadores</li>\n",
        "</ol>"
      ]
    },
    {
      "cell_type": "markdown",
      "metadata": {
        "colab_type": "text",
        "id": "nIzEgAGILeff"
      },
      "source": [
        "## 1 - Ambiente Python\n",
        "Conteúdo disponibilizado no material Didádito do Tópico"
      ]
    },
    {
      "cell_type": "code",
      "metadata": {
        "colab_type": "code",
        "id": "fe-JImRVXOM5",
        "colab": {},
        "outputId": "94d1edcf-27c4-487f-81d6-8655053232d0"
      },
      "source": [
        "\"\"\"\n",
        "-> IDE (Integrated Development Environment) ou Ambiente de Programação Intergrada\n",
        "  -> IDE 1:  NOTEBOOK JUPYTER (offline)\n",
        "  -> IDE 2: COLAB GOOGLE (online)\n",
        "  -> IDE 3: PYCHARM (offline)\n",
        "Exemplo de comentário com diversas linhas.\n",
        "\"\"\"\n",
        "print('Seja bem vindo ou bem vinda à UVV!!!')      #Exemplo Comentário em linha"
      ],
      "execution_count": null,
      "outputs": [
        {
          "output_type": "stream",
          "text": [
            "Seja bem vindo ou bem vinda à UVV!!!\n"
          ],
          "name": "stdout"
        }
      ]
    },
    {
      "cell_type": "markdown",
      "metadata": {
        "colab_type": "text",
        "id": "pICM3puDLG6c"
      },
      "source": [
        "## 2 - Tipos de Dados e Variáveis"
      ]
    },
    {
      "cell_type": "markdown",
      "metadata": {
        "colab_type": "text",
        "id": "rshyoy3BXOM9"
      },
      "source": [
        "Conteúdo disponibilizado no material Didádito do Tópico"
      ]
    },
    {
      "cell_type": "markdown",
      "metadata": {
        "colab_type": "text",
        "id": "NqR5FZ61gIuB"
      },
      "source": [
        "&#10139; Nós temos os Tipos \"str\" ou String"
      ]
    },
    {
      "cell_type": "code",
      "metadata": {
        "colab_type": "code",
        "id": "icp3Xjlug2tT",
        "colab": {}
      },
      "source": [
        "instituicao = 'UVV - Universidade Vila Velha' # Nome da Instituição\n",
        "print(f'A Variável \"instituicao\", que tem como conteúdo: \"{instituicao}\", é do Tipo: {type(instituicao)}')"
      ],
      "execution_count": null,
      "outputs": []
    },
    {
      "cell_type": "markdown",
      "metadata": {
        "colab_type": "text",
        "id": "ImPWuq7lhsNq"
      },
      "source": [
        "&#10139; Nós temos os Tipos Numéricos, representados abaixo pelo \"int\". Números inteiros de precisão fixa"
      ]
    },
    {
      "cell_type": "code",
      "metadata": {
        "colab_type": "code",
        "id": "g_uOGv5dg52Z",
        "colab": {}
      },
      "source": [
        "funcionarios = 2500 # Quantidade de Funcionários\n",
        "print(f'A Variável \"funcionarios\", que tem como conteúdo: \"{funcionarios}\", é do Tipo: {type(funcionarios)}')"
      ],
      "execution_count": null,
      "outputs": []
    },
    {
      "cell_type": "markdown",
      "metadata": {
        "colab_type": "text",
        "id": "sjLqOK2sh9yh"
      },
      "source": [
        "&#10139; Nós temos os outros Tipos Numéricos, neste caso o \"float\". Números racionais de precisão variável"
      ]
    },
    {
      "cell_type": "code",
      "metadata": {
        "colab_type": "code",
        "id": "i1P1udf1g-2R",
        "colab": {}
      },
      "source": [
        "nota = 10.00 #Nota da Instituição\n",
        "print(f'A Variável \"nota\", que tem como conteúdo: \"{nota}\", é do Tipo: {type(nota)}')"
      ],
      "execution_count": null,
      "outputs": []
    },
    {
      "cell_type": "markdown",
      "metadata": {
        "colab_type": "text",
        "id": "vyjEeLduiO6h"
      },
      "source": [
        "&#10139; Nós temos os Tipos Booleanos, representados por \"bool\". Apresentam resultados TRUE (Verdadeiro) ou FALSE (Falso)"
      ]
    },
    {
      "cell_type": "code",
      "metadata": {
        "colab_type": "code",
        "id": "uhxEeAuZXOM9",
        "colab": {}
      },
      "source": [
        "amoUVV = True\n",
        "print(f'A Variável \"amoUVV\", que tem como conteúdo: \"{amoUVV}\", é do Tipo: {type(amoUVV)}')"
      ],
      "execution_count": null,
      "outputs": []
    },
    {
      "cell_type": "markdown",
      "metadata": {
        "id": "8ZPsOxez6-Ns",
        "colab_type": "text"
      },
      "source": [
        "&#10139;  Números Complexos"
      ]
    },
    {
      "cell_type": "code",
      "metadata": {
        "id": "Qhi_C-mMJxnM",
        "colab_type": "code",
        "colab": {}
      },
      "source": [
        "1+2j"
      ],
      "execution_count": null,
      "outputs": []
    },
    {
      "cell_type": "code",
      "metadata": {
        "id": "nf3j1CsGKqnf",
        "colab_type": "code",
        "colab": {}
      },
      "source": [
        "1+2J*3"
      ],
      "execution_count": null,
      "outputs": []
    },
    {
      "cell_type": "code",
      "metadata": {
        "id": "y_z_CrhIKtqL",
        "colab_type": "code",
        "colab": {}
      },
      "source": [
        "(1+2j)*3"
      ],
      "execution_count": null,
      "outputs": []
    },
    {
      "cell_type": "code",
      "metadata": {
        "id": "0ZOBW7gOKyRG",
        "colab_type": "code",
        "colab": {}
      },
      "source": [
        "(1+2J)*3j"
      ],
      "execution_count": null,
      "outputs": []
    },
    {
      "cell_type": "code",
      "metadata": {
        "id": "l1J3mujVK3-h",
        "colab_type": "code",
        "colab": {}
      },
      "source": [
        "2j"
      ],
      "execution_count": null,
      "outputs": []
    },
    {
      "cell_type": "markdown",
      "metadata": {
        "colab_type": "text",
        "id": "7g5wE3gDqVXE"
      },
      "source": [
        "&#10139; Erro de atribuição"
      ]
    },
    {
      "cell_type": "code",
      "metadata": {
        "colab_type": "code",
        "id": "dQTO9gYVqUfl",
        "colab": {}
      },
      "source": [
        "# Não podemos utilizar uma variável que não foi definida. Veja a mensagem de erro.\n",
        "minha_variavel"
      ],
      "execution_count": null,
      "outputs": []
    },
    {
      "cell_type": "code",
      "metadata": {
        "colab_type": "code",
        "id": "KLkWqDJQr6Pc",
        "colab": {}
      },
      "source": [
        "amoUVv #Case Sensitive"
      ],
      "execution_count": null,
      "outputs": []
    },
    {
      "cell_type": "markdown",
      "metadata": {
        "colab_type": "text",
        "id": "0yQU2JrKuxKu"
      },
      "source": [
        "&#10139; Pode-se usar letras, números e underline (mas não se pode começar com números)"
      ]
    },
    {
      "cell_type": "code",
      "metadata": {
        "colab_type": "code",
        "id": "3EV6M3lYu_BN",
        "colab": {}
      },
      "source": [
        "a20 = 100\n",
        "print(a20)"
      ],
      "execution_count": null,
      "outputs": []
    },
    {
      "cell_type": "code",
      "metadata": {
        "colab_type": "code",
        "id": "OM3_4oudu26s",
        "colab": {}
      },
      "source": [
        "# Mensagem de erro, pois o Python não permite nomes de variáveis que iniciem com números\n",
        "20a = 100"
      ],
      "execution_count": null,
      "outputs": []
    },
    {
      "cell_type": "markdown",
      "metadata": {
        "colab_type": "text",
        "id": "ia4GVBSBsodU"
      },
      "source": [
        "&#10133; Não se pode usar palavras reservadas como nome de variável\n",
        "\n",
        "&#10132; False<br>&#10132; class<br>&#10132; finally<br>&#10132; is<br>&#10132; return<br>&#10132; None<br>&#10132; continue<br>&#10132; for<br>&#10132; lambda<br>&#10132; try<br>&#10132; True<br>&#10132; def<br>&#10132; from<br>&#10132; nonlocal<br>&#10132; while<br>&#10132; and<br>&#10132; del<br>&#10132; global<br>&#10132; not<br>&#10132; with<br>&#10132; as<br>&#10132; elif<br>&#10132; if<br>&#10132; or<br>&#10132; yield<br>&#10132; assert<br>&#10132; else<br>&#10132; import<br>&#10132; pass<br>&#10132; break<br>&#10132; except<br>&#10132; in<br>&#10132; raise"
      ]
    },
    {
      "cell_type": "code",
      "metadata": {
        "colab_type": "code",
        "id": "To9jw45jvWu8",
        "colab": {}
      },
      "source": [
        "True = \"teste\" # Mensagem de erro, pois o Python não permite nomear a variável com palavras reservadas."
      ],
      "execution_count": null,
      "outputs": []
    },
    {
      "cell_type": "markdown",
      "metadata": {
        "colab_type": "text",
        "id": "N5swr6sIjaW0"
      },
      "source": [
        "## 3 - Entrada e Saída de Dados"
      ]
    },
    {
      "cell_type": "markdown",
      "metadata": {
        "colab_type": "text",
        "id": "4qYroLxuj1_F"
      },
      "source": [
        "&#10139; Atribuição de variáveis <br/>\n",
        "\n",
        "<b>Para inserir um dado ou argumento, modificamos a variável usando o comando de atribuição (=).</b><br/>\n",
        "Var = expressão <br/>\n",
        "Por exemplo: <br/>\n",
        "•\ta=1 <br/>\n",
        "•\ta <br/>\n",
        "•\t[OUT]: 1"
      ]
    },
    {
      "cell_type": "code",
      "metadata": {
        "colab_type": "code",
        "id": "-yXSfkro0ITV",
        "colab": {}
      },
      "source": [
        "a = 1 #Atribuindo Variável\n",
        "a #chamando a variável"
      ],
      "execution_count": null,
      "outputs": []
    },
    {
      "cell_type": "code",
      "metadata": {
        "id": "gcJe4DWyl6-r",
        "colab_type": "code",
        "colab": {}
      },
      "source": [
        "a = \"Hello\"\n",
        "b = \"World\"\n",
        "print (a, b)"
      ],
      "execution_count": null,
      "outputs": []
    },
    {
      "cell_type": "code",
      "metadata": {
        "id": "N8K0T07USZXt",
        "colab_type": "code",
        "colab": {
          "base_uri": "https://localhost:8080/",
          "height": 34
        },
        "outputId": "c9815a41-fc46-4e28-d82c-1edf038770ec"
      },
      "source": [
        "def sequenciaFibonacci(n):\n",
        "  #Escreve a serie com elementos menores que n\n",
        "  a,b = 1,1\n",
        "  sequencia = [a]\n",
        "  while(b<n):\n",
        "    sequencia = sequencia + [b]\n",
        "    a,b = b, a+b\n",
        "  return sequencia\n",
        "\n",
        "n = 5\n",
        "lista = sequenciaFibonacci(n)\n",
        "print(lista)"
      ],
      "execution_count": 10,
      "outputs": [
        {
          "output_type": "stream",
          "text": [
            "[1, 1, 2, 3]\n"
          ],
          "name": "stdout"
        }
      ]
    },
    {
      "cell_type": "code",
      "metadata": {
        "id": "N-UWLwMary3Y",
        "colab_type": "code",
        "colab": {}
      },
      "source": [
        "a = 1\n",
        "a,b = 3*a,a\n",
        "print(a,b)\n",
        "a,b=b,a\n",
        "print(a,b)"
      ],
      "execution_count": null,
      "outputs": []
    },
    {
      "cell_type": "markdown",
      "metadata": {
        "id": "lez_WTef6n1U",
        "colab_type": "text"
      },
      "source": [
        "## 4 - Operadores"
      ]
    },
    {
      "cell_type": "code",
      "metadata": {
        "id": "VG08hiMcsx0J",
        "colab_type": "code",
        "colab": {}
      },
      "source": [
        "# Soma\n",
        "10 + 5"
      ],
      "execution_count": null,
      "outputs": []
    },
    {
      "cell_type": "code",
      "metadata": {
        "id": "TkWBCXNfy0TQ",
        "colab_type": "code",
        "colab": {}
      },
      "source": [
        "#Subtração\n",
        "10 - 15"
      ],
      "execution_count": null,
      "outputs": []
    },
    {
      "cell_type": "code",
      "metadata": {
        "id": "w5lzSXBSy74h",
        "colab_type": "code",
        "colab": {}
      },
      "source": [
        "# Multiplicação\n",
        "10 * 3"
      ],
      "execution_count": null,
      "outputs": []
    },
    {
      "cell_type": "code",
      "metadata": {
        "id": "aNMbKIBZzFZ_",
        "colab_type": "code",
        "colab": {}
      },
      "source": [
        "# Divisão (Alguns interpretadores retornam apenas o piso)\n",
        "10 / 3"
      ],
      "execution_count": null,
      "outputs": []
    },
    {
      "cell_type": "code",
      "metadata": {
        "id": "_0-bhE4J0Su4",
        "colab_type": "code",
        "colab": {}
      },
      "source": [
        "# Resto da divisão inteira\n",
        "10 % 3"
      ],
      "execution_count": null,
      "outputs": []
    },
    {
      "cell_type": "code",
      "metadata": {
        "id": "hoOQYvHiAZt4",
        "colab_type": "code",
        "colab": {}
      },
      "source": [
        "# Quociente\n",
        "10 // 3"
      ],
      "execution_count": null,
      "outputs": []
    },
    {
      "cell_type": "code",
      "metadata": {
        "id": "ctQFE1NrECxE",
        "colab_type": "code",
        "colab": {}
      },
      "source": [
        "# Octal\n",
        "0o22"
      ],
      "execution_count": null,
      "outputs": []
    },
    {
      "cell_type": "code",
      "metadata": {
        "id": "I5p12b6lEFCe",
        "colab_type": "code",
        "colab": {}
      },
      "source": [
        "# Hexadecimal\n",
        "0x1f"
      ],
      "execution_count": null,
      "outputs": []
    },
    {
      "cell_type": "code",
      "metadata": {
        "id": "nEhjRXqDEGhu",
        "colab_type": "code",
        "colab": {}
      },
      "source": [
        "# Binário\n",
        "0b1101"
      ],
      "execution_count": null,
      "outputs": []
    },
    {
      "cell_type": "code",
      "metadata": {
        "id": "YV18XpnLEWBg",
        "colab_type": "code",
        "colab": {}
      },
      "source": [
        "#Inteiro\n",
        "10"
      ],
      "execution_count": null,
      "outputs": []
    },
    {
      "cell_type": "code",
      "metadata": {
        "id": "D4gtaWD6JiWf",
        "colab_type": "code",
        "colab": {}
      },
      "source": [
        "# Ponto flutuante\n",
        "10.0"
      ],
      "execution_count": null,
      "outputs": []
    },
    {
      "cell_type": "code",
      "metadata": {
        "id": "aodVQQzaJl4w",
        "colab_type": "code",
        "colab": {}
      },
      "source": [
        "# Potências de 10\n",
        "99e3"
      ],
      "execution_count": null,
      "outputs": []
    },
    {
      "cell_type": "code",
      "metadata": {
        "id": "ZihPV7d6Jpur",
        "colab_type": "code",
        "colab": {}
      },
      "source": [
        "# Potências de 10\n",
        "99E-3"
      ],
      "execution_count": null,
      "outputs": []
    },
    {
      "cell_type": "markdown",
      "metadata": {
        "id": "X9jEyRmd7ihA",
        "colab_type": "text"
      },
      "source": [
        "&#10139;  STRING - Caracteres não imprimíveis"
      ]
    },
    {
      "cell_type": "code",
      "metadata": {
        "id": "HJH00PVlLaEQ",
        "colab_type": "code",
        "colab": {}
      },
      "source": [
        "\"ab\\rd\""
      ],
      "execution_count": null,
      "outputs": []
    },
    {
      "cell_type": "code",
      "metadata": {
        "id": "FngPhC2LOG4d",
        "colab_type": "code",
        "colab": {}
      },
      "source": [
        "print(\"ab\\rd\")"
      ],
      "execution_count": null,
      "outputs": []
    },
    {
      "cell_type": "code",
      "metadata": {
        "id": "NGcdASxUOO4K",
        "colab_type": "code",
        "colab": {}
      },
      "source": [
        "print(\"abc\\td\")"
      ],
      "execution_count": null,
      "outputs": []
    },
    {
      "cell_type": "code",
      "metadata": {
        "id": "tjlABo6IOVa8",
        "colab_type": "code",
        "colab": {}
      },
      "source": [
        "print(\"abc\\nd\")"
      ],
      "execution_count": null,
      "outputs": []
    },
    {
      "cell_type": "code",
      "metadata": {
        "id": "dspQLZYjOcR3",
        "colab_type": "code",
        "colab": {}
      },
      "source": [
        "print(\"abc\\nd\")\n",
        "print(r\"abc\\nd\")"
      ],
      "execution_count": null,
      "outputs": []
    },
    {
      "cell_type": "code",
      "metadata": {
        "id": "QrTqP4zYPXE4",
        "colab_type": "code",
        "colab": {}
      },
      "source": [
        "print(\"uma maçã\\nduas maçãs\")\n",
        "print(\"\"\"\n",
        "uma maçã\n",
        "duas maçãs\"\"\")"
      ],
      "execution_count": null,
      "outputs": []
    },
    {
      "cell_type": "markdown",
      "metadata": {
        "id": "Z4aHtmTi7pGU",
        "colab_type": "text"
      },
      "source": [
        "&#10139;  ÍNDICE em Python"
      ]
    },
    {
      "cell_type": "code",
      "metadata": {
        "id": "hBjHI1bDRv5A",
        "colab_type": "code",
        "colab": {}
      },
      "source": [
        "a = \"teste de índice\"\n",
        "print(a[0])\n",
        "print(a[-1])"
      ],
      "execution_count": null,
      "outputs": []
    },
    {
      "cell_type": "markdown",
      "metadata": {
        "id": "zCM1j8lL7rqU",
        "colab_type": "text"
      },
      "source": [
        "&#10139;  SLICE ou Fatiamento"
      ]
    },
    {
      "cell_type": "code",
      "metadata": {
        "id": "bStgHVdnTAM1",
        "colab_type": "code",
        "colab": {}
      },
      "source": [
        "a = \"Teste de slice\"\n",
        "print(a[0:2])\n",
        "print(a[2:])\n",
        "print(a[:])\n",
        "print(a[-1:])\n",
        "print(a[:-1])"
      ],
      "execution_count": null,
      "outputs": []
    },
    {
      "cell_type": "markdown",
      "metadata": {
        "id": "pkBUhbBR72Z0",
        "colab_type": "text"
      },
      "source": [
        "&#10139;  Expressões Booleanas"
      ]
    },
    {
      "cell_type": "code",
      "metadata": {
        "id": "jGIAUdmSYVPn",
        "colab_type": "code",
        "colab": {}
      },
      "source": [
        "1==1"
      ],
      "execution_count": null,
      "outputs": []
    },
    {
      "cell_type": "code",
      "metadata": {
        "id": "ophZbym_Yvx9",
        "colab_type": "code",
        "colab": {}
      },
      "source": [
        "1<2 and 3<2"
      ],
      "execution_count": null,
      "outputs": []
    },
    {
      "cell_type": "code",
      "metadata": {
        "id": "km_2bCCCYzEr",
        "colab_type": "code",
        "colab": {}
      },
      "source": [
        "0 or 2 and 3"
      ],
      "execution_count": null,
      "outputs": []
    },
    {
      "cell_type": "code",
      "metadata": {
        "id": "nX6WyQFOZg7L",
        "colab_type": "code",
        "colab": {}
      },
      "source": [
        "0 and 2 and 3"
      ],
      "execution_count": null,
      "outputs": []
    },
    {
      "cell_type": "code",
      "metadata": {
        "id": "yTKBasO9ZwbH",
        "colab_type": "code",
        "colab": {}
      },
      "source": [
        "False and 3"
      ],
      "execution_count": null,
      "outputs": []
    },
    {
      "cell_type": "code",
      "metadata": {
        "id": "V8tWVoMUZ4nV",
        "colab_type": "code",
        "colab": {}
      },
      "source": [
        "\"abc\" or 1"
      ],
      "execution_count": null,
      "outputs": []
    },
    {
      "cell_type": "code",
      "metadata": {
        "id": "THJxPDiaZ_ME",
        "colab_type": "code",
        "colab": {}
      },
      "source": [
        "1 and not 0"
      ],
      "execution_count": null,
      "outputs": []
    },
    {
      "cell_type": "code",
      "metadata": {
        "id": "9I18-tyUaiIK",
        "colab_type": "code",
        "colab": {}
      },
      "source": [
        "\"primeiro\" and 1"
      ],
      "execution_count": null,
      "outputs": []
    },
    {
      "cell_type": "markdown",
      "metadata": {
        "id": "tQpeTc97FGwq",
        "colab_type": "text"
      },
      "source": [
        "&#10139; Funções como operadores"
      ]
    },
    {
      "cell_type": "code",
      "metadata": {
        "id": "pk69qKVtg_Q-",
        "colab_type": "code",
        "colab": {}
      },
      "source": [
        "# Valor absoluto\n",
        "abs(-21)"
      ],
      "execution_count": null,
      "outputs": []
    },
    {
      "cell_type": "code",
      "metadata": {
        "id": "V3YL6PKWhKzv",
        "colab_type": "code",
        "colab": {}
      },
      "source": [
        "# Retornar o caractere cujo código ASCII é 99\n",
        "chr(99)"
      ],
      "execution_count": null,
      "outputs": []
    },
    {
      "cell_type": "code",
      "metadata": {
        "id": "7-k5ydTFhhqg",
        "colab_type": "code",
        "colab": {}
      },
      "source": [
        "# Retornar o código ASCII do caractere \"c\"\n",
        "ord('c')"
      ],
      "execution_count": null,
      "outputs": []
    },
    {
      "cell_type": "markdown",
      "metadata": {
        "id": "bo3L8QWJ8muu",
        "colab_type": "text"
      },
      "source": [
        "&#10139;  IMPORTANDO Módulos"
      ]
    },
    {
      "cell_type": "code",
      "metadata": {
        "id": "B0P__UVPhyJS",
        "colab_type": "code",
        "colab": {}
      },
      "source": [
        "import math\n",
        "a = math.sin(30)\n",
        "a"
      ],
      "execution_count": null,
      "outputs": []
    },
    {
      "cell_type": "code",
      "metadata": {
        "id": "5jd1cU11hx8Y",
        "colab_type": "code",
        "colab": {}
      },
      "source": [
        "from math import *\n",
        "a = sin(radians(30))\n",
        "a"
      ],
      "execution_count": null,
      "outputs": []
    },
    {
      "cell_type": "code",
      "metadata": {
        "id": "F6U55A0oADkg",
        "colab_type": "code",
        "colab": {}
      },
      "source": [
        "from math import sin\n",
        "a = sin(radians(30))"
      ],
      "execution_count": null,
      "outputs": []
    },
    {
      "cell_type": "markdown",
      "metadata": {
        "id": "jCHJCFSPApn3",
        "colab_type": "text"
      },
      "source": [
        "ESTRTURUAÇÃO de código"
      ]
    },
    {
      "cell_type": "code",
      "metadata": {
        "id": "0S6uDi9Xk6Qc",
        "colab_type": "code",
        "colab": {
          "base_uri": "https://localhost:8080/",
          "height": 86
        },
        "outputId": "541775e3-83ea-494c-a80e-f4b413dfabdb"
      },
      "source": [
        "z=0\n",
        "x=15\n",
        "y=10\n",
        "x,y=x+y,x-y\n",
        "z=x+y\n",
        "resultado = 2 and z or 3<2\n",
        "texto = \"O resultado é:\\n\"\n",
        "print(x,y,z)\n",
        "print(texto ,resultado)\n",
        "texto[2:11]"
      ],
      "execution_count": 9,
      "outputs": [
        {
          "output_type": "stream",
          "text": [
            "25 5 30\n",
            "O resultado é:\n",
            " 30\n"
          ],
          "name": "stdout"
        },
        {
          "output_type": "execute_result",
          "data": {
            "application/vnd.google.colaboratory.intrinsic+json": {
              "type": "string"
            },
            "text/plain": [
              "'resultado'"
            ]
          },
          "metadata": {
            "tags": []
          },
          "execution_count": 9
        }
      ]
    }
  ]
}