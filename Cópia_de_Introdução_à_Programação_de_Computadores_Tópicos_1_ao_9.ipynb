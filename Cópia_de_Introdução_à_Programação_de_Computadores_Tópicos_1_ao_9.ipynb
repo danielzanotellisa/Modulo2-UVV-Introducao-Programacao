{
 "cells": [
  {
   "cell_type": "markdown",
   "metadata": {
    "id": "G90zxY79qIXe"
   },
   "source": [
    "<?xml version=\"1.0\" encoding=\"UTF-8\"?>\n",
    "<html>\n",
    "  <body>\n",
    "    <header></header>\n",
    "        <CENTER>\n",
    "          <img src=\"https://www.uvv.br/wp-content/themes/uvvBr/templates/assets//img/logouvv.svg\" alt=\"UVV-LOGO\" style = width=\"100px\"; height=\"100px\">\n",
    "        </CENTER>\n",
    "        <CENTER>\n",
    "          <b>\n",
    "            <font size=\"5\">Introdução à Programação de Computadores\n",
    "          </b>\n",
    "          </CENTER>\n",
    "        <CENTER><b>Planejamento da Disciplina</b></CENTER><br/>\n",
    "        </font>"
   ]
  },
  {
   "cell_type": "markdown",
   "metadata": {
    "id": "yZfJjeQgqTo_"
   },
   "source": [
    "# **OBJETIVO**:\n",
    "\n",
    "Estudar, Pesquisar e Praticar os conceitos de **Lógica de Programação** e Introdução às Tecnologias do Ecossistema Python de Programação.\n",
    "    "
   ]
  },
  {
   "cell_type": "markdown",
   "metadata": {
    "id": "7pj3CvyWpSQv"
   },
   "source": [
    "# **TÓPICO 1**: RACIOCÍNIO LÓGICO. [Clique Aqui](https://colab.research.google.com/drive/1lh3QU0xdHdce48L7L3TTh81UMsWBa_NT?usp=sharing)"
   ]
  },
  {
   "cell_type": "markdown",
   "metadata": {
    "id": "nmmtWCvDN2B9"
   },
   "source": [
    "# **TÓPICO 2**: ÁLGEBRA BOOLEANA. [Clique Aqui](https://colab.research.google.com/drive/12_mF-j-qmU-UJa0rRhSVoU0nTMT7fMUQ?usp=sharing)"
   ]
  },
  {
   "cell_type": "markdown",
   "metadata": {
    "id": "IXXIIhxsN2p1"
   },
   "source": [
    "# **TÓPICO 3**: LÓGICA PROPOSICIONAL. [Clique Aqui](https://colab.research.google.com/drive/1lh3QU0xdHdce48L7L3TTh81UMsWBa_NT?usp=sharing)"
   ]
  },
  {
   "cell_type": "markdown",
   "metadata": {
    "id": "uxMzxwFDN3I8"
   },
   "source": [
    "# **TÓPICO 4**: INTRODUÇÃO À PYTHON. [Clique Aqui](https://colab.research.google.com/drive/12_mF-j-qmU-UJa0rRhSVoU0nTMT7fMUQ?usp=sharing)"
   ]
  },
  {
   "cell_type": "markdown",
   "metadata": {
    "id": "DVMwLjsKSBD7"
   },
   "source": [
    "# **TÓPICO 5**: ESTRUTURAS DE CONTROLE - CONDICIONAL. [Clique Aqui](https://colab.research.google.com/drive/12_mF-j-qmU-UJa0rRhSVoU0nTMT7fMUQ?usp=sharing)"
   ]
  },
  {
   "cell_type": "markdown",
   "metadata": {
    "id": "etZtU55aTl4S"
   },
   "source": [
    "# **TÓPICO 6**: ESTRUTURAS DE CONTROLE - REPETIÇÃO. [Clique Aqui](https://colab.research.google.com/drive/1-6ykMQmtrp_2a7I2Z4tEfRbxHQOkaDun?usp=sharing)"
   ]
  },
  {
   "cell_type": "markdown",
   "metadata": {
    "id": "TbLG4QyETmai"
   },
   "source": [
    "# **TÓPICO 7**: INTRODUÇÃO À ESTRUTURAS DE DADOS HOMOGÊNEA - MATRIZ: NDARRAY. [Clique Aqui](https://colab.research.google.com/drive/1VHZd4VaYhn-chjE0VoEHHfdjRynaZfC3?usp=sharing)"
   ]
  },
  {
   "cell_type": "markdown",
   "metadata": {
    "id": "8KQQ3AavTnMp"
   },
   "source": [
    "# **TÓPICO 8**: INTRODUÇÃO À ESTRUTURAS DE DADOS HETEROGÊNEA - LISTA: LIST. [Clique Aqui](https://colab.research.google.com/drive/1Lwt6LuEmsBTDp9bDPUu40aDXaiVZb2li?usp=sharing)"
   ]
  },
  {
   "cell_type": "markdown",
   "metadata": {
    "id": "QLWQ0dnhTnvZ"
   },
   "source": [
    "# **TÓPICO 9**: INTRODUÇÃO À ESTRUTURAS DE DADOS HETEROGÊNEA - DICIONÁRIO: DICT. [Clique Aqui](https://colab.research.google.com/drive/1UKLEBvcjatnn0peTb9UYXQqrL5FDmTmP?usp=sharing)"
   ]
  },
  {
   "cell_type": "markdown",
   "metadata": {
    "id": "SxfseI4hEFvx"
   },
   "source": [
    "#Referência Bibliográfica:"
   ]
  },
  {
   "cell_type": "markdown",
   "metadata": {
    "id": "tBOb6EVtr9u-"
   },
   "source": [
    "<div class=\"hint\">\n",
    "        <b>APRENDA+ :</b><br/>\n",
    "        &#10139; Livro Numeric Python (Travis E. Oliphant):\n",
    "        <a href=\"https://web.mit.edu/dvp/Public/numpybook.pdf\">Link<a><br/>\n",
    "        &#10139; Livro Análise de Dados: NUMPY / PANDAS (Wes Mckinney):\n",
    "        <a href=\"https://www.cin.ufpe.br/~embat/Python%20for%20Data%20Analysis.pdf\">Link<a><br/>\n",
    "        &#10139; Biblioteca Numeric Python:\n",
    "        <a href=\"https://numpy.org/doc/1.17/index.html\">Link<a><br/>\n",
    "        &#10139; Site oficial <b>Python</b>:\n",
    "        <a href=\"https://www.python.org/\">Link</a><br/>\n",
    "        &#10139; Bibliotecas (Library) do <b>Python</b>:\n",
    "        <a href=\"https://docs.python.org/3.8/library/index.html?highlight=library\">Link</a><br/>\n",
    "    </div>"
   ]
  }
 ],
 "metadata": {
  "colab": {
   "provenance": [],
   "toc_visible": true
  },
  "kernelspec": {
   "display_name": "Python 3 (ipykernel)",
   "language": "python",
   "name": "python3"
  },
  "language_info": {
   "codemirror_mode": {
    "name": "ipython",
    "version": 3
   },
   "file_extension": ".py",
   "mimetype": "text/x-python",
   "name": "python",
   "nbconvert_exporter": "python",
   "pygments_lexer": "ipython3",
   "version": "3.11.2"
  }
 },
 "nbformat": 4,
 "nbformat_minor": 4
}
