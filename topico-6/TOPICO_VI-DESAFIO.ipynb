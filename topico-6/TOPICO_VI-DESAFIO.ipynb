{
 "cells": [
  {
   "cell_type": "markdown",
   "metadata": {
    "colab_type": "text",
    "id": "keC2xRkZzQBf"
   },
   "source": [
    "<?xml version=\"1.0\" encoding=\"UTF-8\"?>\n",
    "<html>\n",
    "  <body>\n",
    "    <header></header>\n",
    "        <CENTER>\n",
    "          <img src=\"https://www.uvv.br/wp-content/themes/uvvBr/templates/assets//img/logouvv.svg\" alt=\"UVV-LOGO\" style = width=\"250px\"; height=\"250px\">\n",
    "        </CENTER><br/>\n",
    "\n",
    "# <CENTER>TÓPICO VI</CENTER>\n",
    "## <CENTER>ESTRUTURAS DE CONTROLE - REPETIÇÃO</CENTER>\n",
    "\n",
    "### <b>DESAFIO</b>\n",
    "#### <b>Sugestão de resposta</b>\n"
   ]
  },
  {
   "cell_type": "code",
   "execution_count": null,
   "metadata": {},
   "outputs": [],
   "source": [
    "frase = input(\"Digite sua frase aqui: \")\n",
    "while (len(frase) < 30):\n",
    "    frase = input(\"Sua Frase tem menos de 30 caracteres! \\nDigite novamente: \")\n",
    "else:\n",
    "    print(\"Ok, sua frase tem mais de 30 caracteres!\")"
   ]
  },
  {
   "cell_type": "code",
   "execution_count": null,
   "metadata": {},
   "outputs": [],
   "source": [
    "contador = 0\n",
    "caracter = input(\"Digite o caracter a ser contado: \")\n",
    "for i in frase:\n",
    "    if i == caracter:\n",
    "        contador += 1\n",
    "print(\"O caracter %s aparece %d vezes na frase.\" %(caracter, contador))"
   ]
  },
  {
   "cell_type": "code",
   "execution_count": null,
   "metadata": {},
   "outputs": [],
   "source": [
    "verificador = input(\"Digite a letra verificadora: \")\n",
    "for pular in frase:\n",
    "    if pular == verificador:\n",
    "        continue\n",
    "    print(pular)"
   ]
  },
  {
   "cell_type": "code",
   "execution_count": null,
   "metadata": {},
   "outputs": [],
   "source": [
    "caracter_pause = input(\"Digite o caracter de parada: \")\n",
    "contador = 0\n",
    "\n",
    "while contador < len(frase):\n",
    "    if frase[contador] == caracter_pause:\n",
    "        break\n",
    "    print(frase[contador])\n",
    "    contador += 1"
   ]
  },
  {
   "cell_type": "markdown",
   "metadata": {},
   "source": [
    "Bom. Aqui foi um pequena sugestão de como resolver o desafio. Você, claro, irá estudar o código e propor melhorias.\n",
    "Foi bom ter você conosco e nos vemos em breve!!"
   ]
  }
 ],
 "metadata": {
  "colab": {
   "collapsed_sections": [],
   "name": "TOPICO_IV.ipynb",
   "provenance": [],
   "toc_visible": true
  },
  "kernelspec": {
   "display_name": "Python 3",
   "language": "python",
   "name": "python3"
  },
  "language_info": {
   "codemirror_mode": {
    "name": "ipython",
    "version": 3
   },
   "file_extension": ".py",
   "mimetype": "text/x-python",
   "name": "python",
   "nbconvert_exporter": "python",
   "pygments_lexer": "ipython3",
   "version": "3.7.4"
  }
 },
 "nbformat": 4,
 "nbformat_minor": 1
}
