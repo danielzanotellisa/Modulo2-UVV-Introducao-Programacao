{
  "nbformat": 4,
  "nbformat_minor": 0,
  "metadata": {
    "colab": {
      "name": "TOPICO_V.ipynb",
      "provenance": [],
      "collapsed_sections": [],
      "toc_visible": true
    },
    "kernelspec": {
      "display_name": "Python 3",
      "language": "python",
      "name": "python3"
    },
    "language_info": {
      "codemirror_mode": {
        "name": "ipython",
        "version": 3
      },
      "file_extension": ".py",
      "mimetype": "text/x-python",
      "name": "python",
      "nbconvert_exporter": "python",
      "pygments_lexer": "ipython3",
      "version": "3.7.4"
    }
  },
  "cells": [
    {
      "cell_type": "markdown",
      "metadata": {
        "colab_type": "text",
        "id": "keC2xRkZzQBf"
      },
      "source": [
        "<?xml version=\"1.0\" encoding=\"UTF-8\"?>\n",
        "<html>\n",
        "  <body>\n",
        "    <header></header>\n",
        "        <CENTER>\n",
        "          <img src=\"https://www.uvv.br/wp-content/themes/uvvBr/templates/assets//img/logouvv.svg\" alt=\"UVV-LOGO\" style = width=\"250px\"; height=\"250px\">\n",
        "        </CENTER><br/>\n",
        "\n",
        "# <CENTER>TÓPICO V</CENTER>\n",
        "## <CENTER>Estruturas de Controle - Condicional</CENTER>\n",
        "\n",
        "### <b>Objetivos Específicos de Aprendizagem:</b>\n",
        "\n",
        "Compreender os conceitos de estruturas de controle condicionais e ser capaz de criar programas de computador que utilizem situações de decisão.\n",
        "\n",
        "<b>Conteúdos do Tópico:</b><br />\n",
        "<ol>\n",
        "  <li>Estrutura de seleção simples (IF)</li>\n",
        "  <li>Estrutura de seleção composta (IF – ELSE)</li>\n",
        "  <li>Estrutura de seleção encadeada (IF – ELIF ELSE)</li>\n",
        "</ol>\n",
        "\n",
        "Conteúdo disponibilizado no material Didádito do Tópico"
      ]
    },
    {
      "cell_type": "markdown",
      "metadata": {
        "colab_type": "text",
        "id": "nIzEgAGILeff"
      },
      "source": [
        "## 1 - Estrutura de seleção simples (IF)"
      ]
    },
    {
      "cell_type": "code",
      "metadata": {
        "colab_type": "code",
        "id": "fe-JImRVXOM5",
        "colab": {
          "base_uri": "https://localhost:8080/",
          "height": 34
        },
        "outputId": "833c6540-a6c5-473e-fb01-352d9d3ba307"
      },
      "source": [
        "idade = 18\n",
        "if idade < 25:\n",
        "    print(\"Jovem\")"
      ],
      "execution_count": 1,
      "outputs": [
        {
          "output_type": "stream",
          "text": [
            "Jovem\n"
          ],
          "name": "stdout"
        }
      ]
    },
    {
      "cell_type": "markdown",
      "metadata": {
        "id": "g1Y3sC8asdWP",
        "colab_type": "text"
      },
      "source": [
        "&#10139; Cuidado com a sintaxe:"
      ]
    },
    {
      "cell_type": "code",
      "metadata": {
        "colab_type": "code",
        "id": "Z4ELBIEqsdWQ",
        "colab": {
          "base_uri": "https://localhost:8080/",
          "height": 130
        },
        "outputId": "0213391d-60e3-4046-fdbc-2884b1dbeb0b"
      },
      "source": [
        "idade = 18\n",
        "if idade < 25 # Retiramos o \"dois-pontos\"\n",
        "    print(\"Jovem\")"
      ],
      "execution_count": 2,
      "outputs": [
        {
          "output_type": "error",
          "ename": "SyntaxError",
          "evalue": "ignored",
          "traceback": [
            "\u001b[0;36m  File \u001b[0;32m\"<ipython-input-2-d590f788b927>\"\u001b[0;36m, line \u001b[0;32m2\u001b[0m\n\u001b[0;31m    if idade < 25 # Retiramos o \"dois-pontos\"\u001b[0m\n\u001b[0m                                             ^\u001b[0m\n\u001b[0;31mSyntaxError\u001b[0m\u001b[0;31m:\u001b[0m invalid syntax\n"
          ]
        }
      ]
    },
    {
      "cell_type": "code",
      "metadata": {
        "colab_type": "code",
        "id": "-sCmwmcYsdWS",
        "colab": {}
      },
      "source": [
        "idade = 18\n",
        "if idade < 25: \n",
        "print(\"Jovem\") # Não indentamos"
      ],
      "execution_count": null,
      "outputs": []
    },
    {
      "cell_type": "markdown",
      "metadata": {
        "id": "II3m4tafsdWV",
        "colab_type": "text"
      },
      "source": [
        "&#10139; Podemos utilizar mais de um \"if\" para fazer diversas verificações"
      ]
    },
    {
      "cell_type": "code",
      "metadata": {
        "id": "-QHpvJnJsdWV",
        "colab_type": "code",
        "colab": {}
      },
      "source": [
        "\"\"\"\n",
        "Lembre-se que o python executa linha a linha e aqui temos mais de uma condição é Verdadeira. \n",
        "Logo, é impresso na tela mais de um resultado\n",
        "\"\"\"\n",
        "idade = 22\n",
        "if idade <= 12:\n",
        "  print(\"Criança\")\n",
        "if idade <= 25:\n",
        "  print(\"Jovem\")\n",
        "if idade < 60:\n",
        "  print(\"Adulto\") #teste\n",
        "if idade >= 60:\n",
        "  print(\"Idoso\")"
      ],
      "execution_count": null,
      "outputs": []
    },
    {
      "cell_type": "markdown",
      "metadata": {
        "id": "JSIlffLrsdWX",
        "colab_type": "text"
      },
      "source": [
        "&#10139; Usando operadores lógicos"
      ]
    },
    {
      "cell_type": "code",
      "metadata": {
        "id": "s6zFEu3tsdWY",
        "colab_type": "code",
        "colab": {}
      },
      "source": [
        "idade = 29\n",
        "if idade <= 12:\n",
        "  print(\"Criança\")\n",
        "if idade > 12 and idade <= 25:\n",
        "  print(\"Jovem\")\n",
        "if idade > 25 and idade < 60:\n",
        "  print(\"Adulto\")\n",
        "if idade >= 60:\n",
        "  print(\"Idoso\")"
      ],
      "execution_count": null,
      "outputs": []
    },
    {
      "cell_type": "markdown",
      "metadata": {
        "colab_type": "text",
        "id": "pICM3puDLG6c"
      },
      "source": [
        "## 2 - Estrutura de seleção composta (IF – ELSE)"
      ]
    },
    {
      "cell_type": "code",
      "metadata": {
        "colab_type": "code",
        "id": "icp3Xjlug2tT",
        "colab": {}
      },
      "source": [
        "idade = 29\n",
        "if idade <= 25:\n",
        "  print(\"Jovem\") \n",
        "else:\n",
        "  print(\"Não jovem\")"
      ],
      "execution_count": null,
      "outputs": []
    },
    {
      "cell_type": "markdown",
      "metadata": {
        "id": "JWMTQ82osdWh",
        "colab_type": "text"
      },
      "source": [
        "&#10139; Condicionais Aninhados"
      ]
    },
    {
      "cell_type": "code",
      "metadata": {
        "id": "QBIgH0JksdWh",
        "colab_type": "code",
        "colab": {}
      },
      "source": [
        "idade = 9\n",
        "if idade <= 12:\n",
        "  print(\"Criança\")\n",
        "else:\n",
        "  if idade <= 25:\n",
        "    print(\"Jovem\")\n",
        "  else:\n",
        "    if idade < 60:\n",
        "      print(\"Adulto\")\n",
        "    else:\n",
        "      print(\"Idoso\")"
      ],
      "execution_count": null,
      "outputs": []
    },
    {
      "cell_type": "code",
      "metadata": {
        "id": "IataJUJIsdWj",
        "colab_type": "code",
        "colab": {}
      },
      "source": [
        "\"\"\"\n",
        "Observe a estrutura acima. A vairável \"idade\" está armazenada na memória devido a execução do bloco anterior, onde a variável\n",
        "\"idade\" tem valor = \"9\". Portanto, como \"9\" é menor que \"13\", a primeira condição é FALSE, logo o python irá imprimir o \n",
        "resultado da condicional \"else\" -> \"Desculpe, mas você não pode entrar\".\n",
        "\n",
        "Tente trocar, por exemplo, no bloco anterior a variável idade para \"14\" e execute o tanto o bloco anterior quanto este bloco.\n",
        "Ou você pode inserir a variável \"idade\" neste bloco (nesta célula) e controlar o resultado aqui.\n",
        "\"\"\"\n",
        "\n",
        "Nome = \"Bob\"\n",
        "if idade > 13:\n",
        " if Nome == \"Bob\":\n",
        "   print(\"Ok Bob, você está autorizado a entrar!\")\n",
        "else:\n",
        " print(\"Desculpe, mas você não pode entrar!\")"
      ],
      "execution_count": null,
      "outputs": []
    },
    {
      "cell_type": "markdown",
      "metadata": {
        "colab_type": "text",
        "id": "N5swr6sIjaW0"
      },
      "source": [
        "## 3 - Estrutura de seleção encadeada (IF – ELIF ELSE)"
      ]
    },
    {
      "cell_type": "code",
      "metadata": {
        "id": "rIzj6B9VsdWm",
        "colab_type": "code",
        "colab": {}
      },
      "source": [
        "\"\"\"\n",
        "Observe a diferença entre uma estrutura com diversos \"if\" e uma estrutura encadeada com if - elif else.\n",
        "No momento que encontra um resultado verdadeiro, a execução é finalizada.\n",
        "\"\"\"\n",
        "\n",
        "idade = 9\n",
        "if idade <= 12:\n",
        "  print(\"Criança\")\n",
        "elif idade <= 25:\n",
        "  print(\"Jovem\")\n",
        "elif idade < 60:\n",
        "  print(\"Adulto\")\n",
        "else:\n",
        "  print(\"Idoso\")"
      ],
      "execution_count": null,
      "outputs": []
    },
    {
      "cell_type": "code",
      "metadata": {
        "id": "uPzmB-ynsdWo",
        "colab_type": "code",
        "colab": {}
      },
      "source": [
        "i=10\n",
        "if i==\"10\":\n",
        "  print(\"condição 1\")\n",
        "elif i==10:\n",
        "  print(\"condição 2\")\n",
        "elif i == 10.0:\n",
        "  print(\"condição 3\")\n",
        "elif i == 10:\n",
        "  print(\"condição 4\")\n",
        "else:\n",
        "  print(\"condição 5\")"
      ],
      "execution_count": null,
      "outputs": []
    },
    {
      "cell_type": "code",
      "metadata": {
        "id": "4PPNyUfNsdWr",
        "colab_type": "code",
        "colab": {}
      },
      "source": [
        "\"\"\"\n",
        "Verificando condição digitada pelo usuário\n",
        "Observe o uso do \"input\"\n",
        "\"\"\"\n",
        "\n",
        "disciplina = input('Digite o nome da disciplina: ')\n",
        "nota_final = int(input('Digite a nota final (entre 0 e 100): '))\n",
        "\n",
        "if disciplina == 'Programação de Computadores' and nota_final >= '70':\n",
        "    print('Você foi aprovado!')\n",
        "else:\n",
        "    print('Lamento, acho que você precisa estudar mais!')"
      ],
      "execution_count": null,
      "outputs": []
    },
    {
      "cell_type": "markdown",
      "metadata": {
        "id": "wEhm1sCRsdWu",
        "colab_type": "text"
      },
      "source": [
        "&#10139; Utilizando placeholders (ou marcadores de posição) e *f-String (FORMATTED STRING)*"
      ]
    },
    {
      "cell_type": "code",
      "metadata": {
        "id": "oOTwDHh4sdWu",
        "colab_type": "code",
        "colab": {}
      },
      "source": [
        "\"\"\"\n",
        "Verificando condição digitada pelo usuário\n",
        "Observe o uso do \"input\"\n",
        "Aqui estamos utilizando o placeholder %s e %d como marcadores de posição\n",
        "Observe que  utilizamos após a frase a ser impressa, %(VARIAVEIS) para dizer ao python quais variáveis serão impressas nos marcadores.\n",
        "Observe também que utilimos a função \"f\" antes da frase. Podemos imprimir variáveis e manipular variáveis no print, utilizando colchetes \"{VARIAVEL}\"\n",
        "\"\"\"\n",
        "\n",
        "disciplina = input('Digite o nome da disciplina: ')\n",
        "nota_final = int(input('Digite a nota final (entre 0 e 100): '))\n",
        "universidade = input('Digite o nome da Universidade: ')\n",
        "\n",
        "if disciplina == 'Programação de Computadores' and nota_final >= 70 and universidade.upper() == \"UVV\":\n",
        "    print(f'Você foi aprovado na %s, em %s, com média final {nota_final}!' %(universidade, disciplina))\n",
        "else:\n",
        "    print('Lamento, acho que você precisa estudar mais!')"
      ],
      "execution_count": null,
      "outputs": []
    },
    {
      "cell_type": "code",
      "metadata": {
        "id": "Mp0vhL-C9LpM",
        "colab_type": "code",
        "colab": {}
      },
      "source": [
        "\"\"\"\n",
        "Mais exemplos de uso de placeholders e f-strings\n",
        "Utilizamos aqui o \"f\" como f-string e como formatação de float. Observe a diferença.\n",
        "\"\"\"\n",
        "\n",
        "num1 = int(input('Entre com número inteiro: '))\n",
        "num2 = int(input('Entre com novo número inteiro: '))\n",
        "\n",
        "#Observe as aplicações de formatação:\n",
        "\n",
        "#Utilizando f-string\n",
        "print(f'somando: num1 + num2: {num1} + {num2} = {num1 + num2}')\n",
        "\n",
        "#Utilizando placeholders\n",
        "print('somando: num1 + num2: %d + %d = ' %(num1, num2), num1 + num2)\n",
        "\n",
        "#Utilizando utilizando f-string e utilizando placeholder\n",
        "print(f'Divisão: num1 / num2: {num1}/%d = {num1/num2}' %(num2))"
      ],
      "execution_count": null,
      "outputs": []
    }
  ]
}